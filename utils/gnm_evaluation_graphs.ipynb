{
 "cells": [
  {
   "cell_type": "markdown",
   "metadata": {},
   "source": [
    "# Use NetworkX to generate graphs using predefined seeds"
   ]
  },
  {
   "cell_type": "code",
   "execution_count": 1,
   "metadata": {
    "metadata": {}
   },
   "outputs": [
    {
     "name": "stdout",
     "output_type": "stream",
     "text": [
      "Generating graph: GNM_250_15563_0.gpickle\n",
      "Generating graph: GNM_250_15563_1.gpickle\n",
      "Generating graph: GNM_250_15563_2.gpickle\n",
      "Generating graph: GNM_250_15563_3.gpickle\n",
      "Generating graph: GNM_250_15563_4.gpickle\n",
      "Graph generation finished!\n"
     ]
    }
   ],
   "source": [
    "import math\n",
    "import pickle\n",
    "\n",
    "import networkx as nx\n",
    "\n",
    "output_directory = \"../graphs/gnm_random_graph_250/\"\n",
    "\n",
    "seed_list = [0, 1, 2, 3, 4]\n",
    "\n",
    "nodes_list = [250]\n",
    "\n",
    "# write graph object to output file\n",
    "for nodes in nodes_list:\n",
    "    edges = math.ceil((nodes * (nodes-1)) / 4)\n",
    "    for seed in seed_list:\n",
    "        G = nx.gnm_random_graph(n=nodes, m=edges, seed=seed)\n",
    "        filename = f\"GNM_{nodes}_{edges}_{seed}.gpickle\"\n",
    "        print(f\"Generating graph: {filename}\")\n",
    "        with open(output_directory + filename, \"wb\") as f:\n",
    "            pickle.dump(G, f, pickle.HIGHEST_PROTOCOL)\n",
    "\n",
    "print(f\"Graph generation finished!\")"
   ]
  },
  {
   "cell_type": "code",
   "execution_count": null,
   "metadata": {},
   "outputs": [],
   "source": []
  }
 ],
 "metadata": {
  "kernelspec": {
   "display_name": ".venv",
   "language": "python",
   "name": "python3"
  },
  "language_info": {
   "codemirror_mode": {
    "name": "ipython",
    "version": 3
   },
   "file_extension": ".py",
   "mimetype": "text/x-python",
   "name": "python",
   "nbconvert_exporter": "python",
   "pygments_lexer": "ipython3",
   "version": "3.10.12"
  }
 },
 "nbformat": 4,
 "nbformat_minor": 2
}
